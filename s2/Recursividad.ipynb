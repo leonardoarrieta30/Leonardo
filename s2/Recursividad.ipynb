{
  "nbformat": 4,
  "nbformat_minor": 0,
  "metadata": {
    "colab": {
      "name": "Recursividad.ipynb",
      "provenance": [],
      "toc_visible": true,
      "authorship_tag": "ABX9TyMBk7SBgMhoJCDg4kQDtyVj"
    },
    "kernelspec": {
      "name": "python3",
      "display_name": "Python 3"
    },
    "language_info": {
      "name": "python"
    }
  },
  "cells": [
    {
      "cell_type": "markdown",
      "metadata": {
        "id": "eIThdUcqTslT"
      },
      "source": [
        "#Contenido Tematico\n",
        "* Recursividad\n",
        "* Introduccion listas enlazadas"
      ]
    },
    {
      "cell_type": "code",
      "metadata": {
        "colab": {
          "base_uri": "https://localhost:8080/"
        },
        "id": "RUAualR3T7Iv",
        "outputId": "91036f86-8253-49dc-e434-faccda728a23"
      },
      "source": [
        "%%writefile r1.cpp\n",
        "#include<iostream>\n",
        "using namespace std;\n",
        "void recursivo(int n){\n",
        "  if(n>0)//punto de parada\n",
        "  {   cout<<n<<\"I-\";\n",
        "      recursivo(n-1);\n",
        "      cout<<n<<\"V-\";  \n",
        "}\n",
        "}\n",
        "int main(){\n",
        "    recursivo(8);\n",
        "    /*int j=1;\n",
        "    repetir:\n",
        "    cout<<j<<\" \";\n",
        "    j++;\n",
        "    if(j<10)\n",
        "    goto repetir;*/\n",
        "    //for(size_t i=0;i<10;i++)\n",
        "        //cout<<i<<\" \";\n",
        "    return 0;\n",
        "}"
      ],
      "execution_count": 1,
      "outputs": [
        {
          "output_type": "stream",
          "name": "stdout",
          "text": [
            "Writing r1.cpp\n"
          ]
        }
      ]
    },
    {
      "cell_type": "code",
      "metadata": {
        "colab": {
          "base_uri": "https://localhost:8080/"
        },
        "id": "FAzy3xXZUZu-",
        "outputId": "b74220be-a01f-4dbf-8a6c-ff5320789b7a"
      },
      "source": [
        "!g++ r1.cpp && ./a.out"
      ],
      "execution_count": 2,
      "outputs": [
        {
          "output_type": "stream",
          "name": "stdout",
          "text": [
            "8I-7I-6I-5I-4I-3I-2I-1I-1V-2V-3V-4V-5V-6V-7V-8V-"
          ]
        }
      ]
    },
    {
      "cell_type": "code",
      "metadata": {
        "colab": {
          "base_uri": "https://localhost:8080/"
        },
        "id": "njG13qXkY24p",
        "outputId": "ef007d93-2950-4058-c275-199f007a0941"
      },
      "source": [
        "%%writefile r2.cpp\n",
        "#include<iostream>\n",
        "using namespace std;\n",
        "int sumatoria(int s){\n",
        "    if(s>0)\n",
        "    return s+sumatoria(s-1);\n",
        "}\n",
        "int main(){\n",
        "    cout<<sumatoria(4);\n",
        "    return 0;\n",
        "}"
      ],
      "execution_count": 14,
      "outputs": [
        {
          "output_type": "stream",
          "name": "stdout",
          "text": [
            "Overwriting r2.cpp\n"
          ]
        }
      ]
    },
    {
      "cell_type": "code",
      "metadata": {
        "colab": {
          "base_uri": "https://localhost:8080/"
        },
        "id": "iuMrw1UV9erD",
        "outputId": "b0f94a65-ab64-4359-ab6f-cca64afae484"
      },
      "source": [
        "!g++ r2.cpp && ./a.out  "
      ],
      "execution_count": 15,
      "outputs": [
        {
          "output_type": "stream",
          "name": "stdout",
          "text": [
            "10"
          ]
        }
      ]
    },
    {
      "cell_type": "code",
      "metadata": {
        "colab": {
          "base_uri": "https://localhost:8080/"
        },
        "id": "oi-ahQ3i-Isx",
        "outputId": "a6fb010d-a400-4c9e-8d08-08dfe1d28060"
      },
      "source": [
        "%%writefile factorial.cpp\n",
        "#include<iostream>\n",
        "using namespace std;\n",
        "int factorial(int s){\n",
        "    if(s>1)\n",
        "    return s*factorial(s-1);\n",
        "}\n",
        "int main(){\n",
        "    cout<<factorial(4);\n",
        "    return 0;\n",
        "}  "
      ],
      "execution_count": 22,
      "outputs": [
        {
          "output_type": "stream",
          "name": "stdout",
          "text": [
            "Overwriting factorial.cpp\n"
          ]
        }
      ]
    },
    {
      "cell_type": "code",
      "metadata": {
        "colab": {
          "base_uri": "https://localhost:8080/"
        },
        "id": "DnmKaSSVDImx",
        "outputId": "f3da6b9d-fdc8-470e-fb4a-ea7b42e185cc"
      },
      "source": [
        "!g++ factorial.cpp && ./a.out"
      ],
      "execution_count": 23,
      "outputs": [
        {
          "output_type": "stream",
          "name": "stdout",
          "text": [
            "24"
          ]
        }
      ]
    },
    {
      "cell_type": "code",
      "metadata": {
        "colab": {
          "base_uri": "https://localhost:8080/"
        },
        "id": "235C6DA8DNV3",
        "outputId": "e44edb10-0947-4ff9-b7b2-787bb7b15f7a"
      },
      "source": [
        "%%writefile fibonaci.cpp\n",
        "#include <iostream>\n",
        "\n",
        "using namespace std;\n",
        "\n",
        "void fibonacci(int n,int x,int y){\n",
        "\n",
        "    if(n>1){\n",
        "\n",
        "          int f=x+y;\n",
        "\n",
        "          cout<<f<<\" \";\n",
        "\n",
        "          x=y;\n",
        "\n",
        "          y=f;\n",
        "\n",
        "          fibonacci(n-1,x,y);\n",
        "\n",
        "    }\n",
        "\n",
        "}\n",
        "\n",
        "int main()\n",
        "\n",
        "{\n",
        "\n",
        "    int x=0;\n",
        "\n",
        "    int y=1;\n",
        "\n",
        "    fibonacci(10,x,y);\n",
        "\n",
        "    return 0;\n",
        "\n",
        "}"
      ],
      "execution_count": 30,
      "outputs": [
        {
          "output_type": "stream",
          "name": "stdout",
          "text": [
            "Overwriting fibonaci.cpp\n"
          ]
        }
      ]
    },
    {
      "cell_type": "code",
      "metadata": {
        "colab": {
          "base_uri": "https://localhost:8080/"
        },
        "id": "kvqFUaj7Kk2D",
        "outputId": "bb5871e7-17a9-4b6e-97e4-d9c1eaa4731d"
      },
      "source": [
        "  !g++ fibonaci.cpp && ./a.out"
      ],
      "execution_count": 29,
      "outputs": [
        {
          "output_type": "stream",
          "name": "stdout",
          "text": [
            "1 2 3 5 8 13 21 34 55 "
          ]
        }
      ]
    },
    {
      "cell_type": "code",
      "metadata": {
        "id": "8_zgq_V2KqOi"
      },
      "source": [
        ""
      ],
      "execution_count": null,
      "outputs": []
    }
  ]
}