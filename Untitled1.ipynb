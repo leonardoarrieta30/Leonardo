{
  "nbformat": 4,
  "nbformat_minor": 0,
  "metadata": {
    "colab": {
      "name": "Untitled1.ipynb",
      "provenance": [],
      "toc_visible": true,
      "authorship_tag": "ABX9TyNb7hJ5EKm2iXtA+prMYFGx"
    },
    "kernelspec": {
      "name": "python3",
      "display_name": "Python 3"
    },
    "language_info": {
      "name": "python"
    }
  },
  "cells": [
    {
      "cell_type": "markdown",
      "metadata": {
        "id": "SXeQTQUBPjV-"
      },
      "source": [
        "#Preguntas del geanaly\n",
        "¿CUÁLES SON LAS DIFERENCIAS ENTRE STRUCT Y CLASS?\n",
        "\n",
        "¿QUÉ SON LA HERENCIA TIPO PUBLICO Y PROTEGIDO?\n",
        "***Herencia de tipo publico solo te permite acceder a sus atributos desde la misma clase, mietras en herencia protegida nos permite acceder desde diferentes clases***\n",
        "\n",
        "¿PODEMOS UTILIZAR UNA FUNCIÓN SOBRESCRITA DE LA CLASE BASE EN LA CLASE DERIVADA?\n",
        "\n",
        "¿CÓMO SE CREA UNA CLASE ABSTRACTA?\n",
        "***Creando una super clase generica que tenga métodos abstractos***\n",
        "\n",
        "¿QUÉ PASA SI CREO UN OBJETO DE UNA CLASE ABSTRACTA, MUESTRA UN ERROR O COMPILA CON ÉXITO?\n",
        "***Muestra error porque no se puede instanciar objetos en la super clase***\n",
        "\n",
        "¿POR QUÉ CREAMOS EL DESTRUCTOR Y QUÉ HAY DENTRO DEL DESTRUCTOR?\n",
        "***Para que haya eliminación de variables para así liberar la memoria dinamica.***\n",
        "\n",
        "¿CÓMO SE ASIGNA LA MEMORIA EN C++?\n",
        "***Usando el termino \"new\"***\n",
        "\n",
        "¿HA UTILIZADO LA SOBRECARGA DE OPERADORES EN SU PROYECTO Y CÓMO?\n",
        "***Claro para ya no tener que usar el metodo set***\n",
        "\n",
        "¿DIFERENCIA ENTRE ENCAPSULAMIENTO Y ABSTRACCIÓN?\n",
        "\n",
        "CUANDO LA MISMA FUNCIÓN EXISTE TANTO EN LA CLASE BASE COMO EN LA CLASE DERIVADA, ¿QUÉ FUNCIÓN ES EJECUTADA?\n",
        "***Depende de la llamada a que clase***\n",
        "\n",
        "¿CÓMO PODEMOS UTILIZAR EL CONSTRUCTOR DE LA CLASE BASE CREANDO UN OBJETO DE LA CLASE DERIVADA?\n",
        "\n",
        "¿QUÉ ES LA HERENCIA Y CÓMO LO UTILIZÓ EN SU PROYECTO?\n",
        "***Es una forma de reutilizar codigo(Atributos y Metodos) para ser mas práctico ***\n",
        "\n",
        "¿QUE ES NAMESPACE STD?\n",
        "***Es un espacio de nombre***\n",
        "\n",
        "¿POR QUÉ CREAMOS UNA CLASE ABSTRACTA?\n",
        "***Para poder crear después las clases derivadas***\n",
        "\n",
        "¿QUÉ ES LA MEMORIA TIPO PILA Y CÓMO FUNCIONA?\n",
        "***Es una aréa de memoria de la computadora de origen fijo, funciona con un puntero para saber su dirrección de memoria***\n",
        "\n",
        "¿CÓMO HA UTILIZADO EL POLIMORFISMO EN SU TRABAJO FINAL DE CURSO?\n",
        "\n",
        "¿QUÉ ES EL RETRASO EN LA VINCULACIÓN (LATE BINDING)?\n",
        "\n",
        "¿QUÉ ESTRUCTURA DE DATOS HA UTILIZADO EN SU TRABAJO FINAL DE CURSO ?\n",
        "\n",
        "¿POR QUÉ CERRAR EL ARCHIVO? ¿ES NECESARIO CERRARLO O SE CERRARÁ AUTOMÁTICAMENTE AL SALIR DEL PROGRAMA?\n",
        "\n",
        "¿QUÉ ES OBJECT SLICING?\n",
        "\n",
        "¿QUÉ OBJETOS STL HA UTILIZADO EN SU PROYECTO FINAL Y POR QUÉ?\n",
        "\n",
        "¿POR QUÉ ESCRIBIMOS EL CONSTRUCTOR? \n",
        "\n",
        "¿QUÉ PASARÍA SI NO ESCRIBIMOS EL CONSTRUCTOR?\n",
        "\n",
        "¿PUEDO SOBRECARGAR EL DESTRUCTOR?, ¿POR QUÉ?\n",
        "\n",
        "¿DIFERENCIA ENTRE TUPLA Y VECTOR?\n",
        "\n",
        "¿CUÁL ES EL ORDEN DE LLAMADA A LOS CONSTRUCTORES CUANDO SE CREA UN OBJETO DE UNA CLASE DERIVADA?\n",
        "\n",
        "¿DIFERENCIA LA IMPLEMENTACION DE UNA RELACIÓN COMPOSICIÓN Y AGREGACIÓN?\n",
        "\n",
        "¿CÓMO HACER EL MANEJO DE EXCEPCIONES EN C++?\n",
        "\n",
        "¿PUEDE EJEMPLIFICAR UNA RELACIÓN DE DEPENDENCIA?\n",
        "\n",
        "¿UNA CLASE PUEDE HEREDAR DE 2 CLASES BASE?\n",
        "\n",
        "¿PUEDE IDENTIFICAR UNA RELACIÓN DE ASOCIACIÓN?\n",
        "\n",
        "\n"
      ]
    },
    {
      "cell_type": "code",
      "metadata": {
        "id": "THLAlFa3QTlp"
      },
      "source": [
        ""
      ],
      "execution_count": null,
      "outputs": []
    }
  ]
}