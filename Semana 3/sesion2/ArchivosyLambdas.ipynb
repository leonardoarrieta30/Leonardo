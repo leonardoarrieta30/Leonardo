{
  "nbformat": 4,
  "nbformat_minor": 0,
  "metadata": {
    "colab": {
      "name": "ArchivosyLambdas.ipynb",
      "provenance": [],
      "authorship_tag": "ABX9TyP1JTj8bT6gsjXyEjN4Ylrt"
    },
    "kernelspec": {
      "name": "python3",
      "display_name": "Python 3"
    },
    "language_info": {
      "name": "python"
    }
  },
  "cells": [
    {
      "cell_type": "markdown",
      "metadata": {
        "id": "VNKdmXXYRcHp"
      },
      "source": [
        "##Temario\n",
        "1. Archivos\n",
        "2. Lambdas"
      ]
    },
    {
      "cell_type": "markdown",
      "metadata": {
        "id": "C3HU0maSR9Y-"
      },
      "source": [
        "##Archivos\n"
      ]
    },
    {
      "cell_type": "code",
      "metadata": {
        "id": "FMcRpQSoRdhd",
        "colab": {
          "base_uri": "https://localhost:8080/"
        },
        "outputId": "9bc56aca-e844-410d-fe4c-9ccc0846fc11"
      },
      "source": [
        "%%writefile archivos.cpp\n",
        "#include<iostream>\n",
        "#include<fstream>\n",
        "#include<sstream>\n",
        "#include<string>\n",
        "using namespace std;\n",
        "void ejercicio1(){\n",
        "    string frase;\n",
        "    fstream archE(\"Frases.txt\",ios::out);//modo escritura\n",
        "    archE<<\"UPC, exigete e innova\";\n",
        "    archE.close();\n",
        "\n",
        "    fstream archL(\"Frases.txt\", ios::in );//modo lectura\n",
        "    getline(archL,frase);\n",
        "    archL>>frase;\n",
        "    cout<<frase;\n",
        "    archL.close();\n",
        "}\n",
        "void ejercicio2(){\n",
        "    string frase;\n",
        "    ofstream archE(\"Frases.txt\");//modo escritura\n",
        "    archE<<\"UPC, exigete e innova\";\n",
        "    archE.close();\n",
        "\n",
        "    ifstream archL(\"Frases.txt\");//modo lectura\n",
        "    getline(archL,frase);\n",
        "    archL>>frase;\n",
        "    cout<<frase;\n",
        "    archL.close();\n",
        "}\n",
        "int main(){\n",
        "    ejercicio1();\n",
        "\n",
        "    return 0;\n",
        "}"
      ],
      "execution_count": 3,
      "outputs": [
        {
          "output_type": "stream",
          "name": "stdout",
          "text": [
            "Overwriting archivos.cpp\n"
          ]
        }
      ]
    },
    {
      "cell_type": "code",
      "metadata": {
        "id": "6MLdKN27OMrO"
      },
      "source": [
        "!g++ archivos.cpp && ./a.out"
      ],
      "execution_count": 4,
      "outputs": []
    },
    {
      "cell_type": "code",
      "metadata": {
        "colab": {
          "base_uri": "https://localhost:8080/"
        },
        "id": "NJfDX49xOw6J",
        "outputId": "e1618ae3-7261-4135-a2dc-1edbdbc625bf"
      },
      "source": [
        "%%writefile archivos2.cpp\n",
        "#include<iostream>\n",
        "#include<fstream>\n",
        "#include<sstream>\n",
        "#include<string>\n",
        "#include<cstdlib>\n",
        "#include<ctime>\n",
        "#include<vector>\n",
        "using namespace std;\n",
        "struct Bono{\n",
        "    string nombre;\n",
        "    float monto;\n",
        "    char sexo;\n",
        "};\n",
        "void escribeArchivo(){\n",
        "    ofstream archivo(\"Bonos.txt\");\n",
        "    vector<Bono> bonos;\n",
        "    for(size_t i=0;i<10;i++){\n",
        "        Bono b;\n",
        "        b.nombre=\"xyz\";\n",
        "        b.monto=rand()%1000+1000;\n",
        "        b.sexo=rand()%2==0?'M':'F';\n",
        "        bonos.push_back(b);\n",
        "        archivo<<b.nombre<<\" , \"<<b.monto<<\" , \"<<b.sexo<<endl;\n",
        "    }\n",
        "    archivo.close();\n",
        "}\n",
        "void LeerArchivo(){\n",
        "    ifstream archivo(\"Bonos.txt\");\n",
        "    vector<Bono> bonos;\n",
        "    for(size_t i=0;i<10;i++){\n",
        "        Bono b;\n",
        "        b.nombre=\"xyz\";\n",
        "        b.monto=rand()%1000+1000;\n",
        "        b.sexo=rand()%2==0?'M':'F';\n",
        "        bonos.push_back(b);\n",
        "        archivo<<b.nombre<<\" , \"<<b.monto<<\" , \"<<b.sexo<<endl;\n",
        "    }\n",
        "    archivo.close();\n",
        "}\n",
        "int main(){\n",
        "    srand(time(0));\n",
        "    escribeArchivo();\n",
        "    return 0;\n",
        "\n",
        "}"
      ],
      "execution_count": 39,
      "outputs": [
        {
          "output_type": "stream",
          "name": "stdout",
          "text": [
            "Overwriting archivos2.cpp\n"
          ]
        }
      ]
    },
    {
      "cell_type": "code",
      "metadata": {
        "id": "h_oXf_5gSuDj"
      },
      "source": [
        "!g++ archivos2.cpp && ./a.out"
      ],
      "execution_count": 40,
      "outputs": []
    },
    {
      "cell_type": "code",
      "metadata": {
        "id": "gmPOY7aVZOI3"
      },
      "source": [
        ""
      ],
      "execution_count": null,
      "outputs": []
    }
  ]
}