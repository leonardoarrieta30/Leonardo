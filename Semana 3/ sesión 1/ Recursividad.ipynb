{
  "nbformat": 4,
  "nbformat_minor": 0,
  "metadata": {
    "colab": {
      "name": "Recursividad.ipynb",
      "provenance": [],
      "toc_visible": true,
      "authorship_tag": "ABX9TyMI/9UzGuKKXJMGGJnW8ATd"
    },
    "kernelspec": {
      "name": "python3",
      "display_name": "Python 3"
    },
    "language_info": {
      "name": "python"
    }
  },
  "cells": [
    {
      "cell_type": "markdown",
      "metadata": {
        "id": "eIThdUcqTslT"
      },
      "source": [
        "#Contenido Tematico\n",
        "* Recursividad\n",
        "* Introduccion listas enlazadas"
      ]
    },
    {
      "cell_type": "code",
      "metadata": {
        "colab": {
          "base_uri": "https://localhost:8080/"
        },
        "id": "RUAualR3T7Iv",
        "outputId": "91036f86-8253-49dc-e434-faccda728a23"
      },
      "source": [
        "%%writefile r1.cpp\n",
        "#include<iostream>\n",
        "using namespace std;\n",
        "void recursivo(int n){\n",
        "  if(n>0)//punto de parada\n",
        "  {   cout<<n<<\"I-\";\n",
        "      recursivo(n-1);\n",
        "      cout<<n<<\"V-\";  \n",
        "}\n",
        "}\n",
        "int main(){\n",
        "    recursivo(8);\n",
        "    /*int j=1;\n",
        "    repetir:\n",
        "    cout<<j<<\" \";\n",
        "    j++;\n",
        "    if(j<10)\n",
        "    goto repetir;*/\n",
        "    //for(size_t i=0;i<10;i++)\n",
        "        //cout<<i<<\" \";\n",
        "    return 0;\n",
        "}"
      ],
      "execution_count": null,
      "outputs": [
        {
          "output_type": "stream",
          "name": "stdout",
          "text": [
            "Writing r1.cpp\n"
          ]
        }
      ]
    },
    {
      "cell_type": "code",
      "metadata": {
        "colab": {
          "base_uri": "https://localhost:8080/"
        },
        "id": "FAzy3xXZUZu-",
        "outputId": "b74220be-a01f-4dbf-8a6c-ff5320789b7a"
      },
      "source": [
        "!g++ r1.cpp && ./a.out"
      ],
      "execution_count": null,
      "outputs": [
        {
          "output_type": "stream",
          "name": "stdout",
          "text": [
            "8I-7I-6I-5I-4I-3I-2I-1I-1V-2V-3V-4V-5V-6V-7V-8V-"
          ]
        }
      ]
    },
    {
      "cell_type": "code",
      "metadata": {
        "colab": {
          "base_uri": "https://localhost:8080/"
        },
        "id": "njG13qXkY24p",
        "outputId": "ef007d93-2950-4058-c275-199f007a0941"
      },
      "source": [
        "%%writefile r2.cpp\n",
        "#include<iostream>\n",
        "using namespace std;\n",
        "int sumatoria(int s){\n",
        "    if(s>0)\n",
        "    return s+sumatoria(s-1);\n",
        "}\n",
        "int main(){\n",
        "    cout<<sumatoria(4);\n",
        "    return 0;\n",
        "}"
      ],
      "execution_count": null,
      "outputs": [
        {
          "output_type": "stream",
          "name": "stdout",
          "text": [
            "Overwriting r2.cpp\n"
          ]
        }
      ]
    },
    {
      "cell_type": "code",
      "metadata": {
        "colab": {
          "base_uri": "https://localhost:8080/"
        },
        "id": "iuMrw1UV9erD",
        "outputId": "b0f94a65-ab64-4359-ab6f-cca64afae484"
      },
      "source": [
        "!g++ r2.cpp && ./a.out  "
      ],
      "execution_count": null,
      "outputs": [
        {
          "output_type": "stream",
          "name": "stdout",
          "text": [
            "10"
          ]
        }
      ]
    },
    {
      "cell_type": "code",
      "metadata": {
        "colab": {
          "base_uri": "https://localhost:8080/"
        },
        "id": "oi-ahQ3i-Isx",
        "outputId": "a6fb010d-a400-4c9e-8d08-08dfe1d28060"
      },
      "source": [
        "%%writefile factorial.cpp\n",
        "#include<iostream>\n",
        "using namespace std;\n",
        "int factorial(int s){\n",
        "    if(s>1)\n",
        "    return s*factorial(s-1);\n",
        "}\n",
        "int main(){\n",
        "    cout<<factorial(4);\n",
        "    return 0;\n",
        "}  "
      ],
      "execution_count": null,
      "outputs": [
        {
          "output_type": "stream",
          "name": "stdout",
          "text": [
            "Overwriting factorial.cpp\n"
          ]
        }
      ]
    },
    {
      "cell_type": "code",
      "metadata": {
        "colab": {
          "base_uri": "https://localhost:8080/"
        },
        "id": "DnmKaSSVDImx",
        "outputId": "f3da6b9d-fdc8-470e-fb4a-ea7b42e185cc"
      },
      "source": [
        "!g++ factorial.cpp && ./a.out"
      ],
      "execution_count": null,
      "outputs": [
        {
          "output_type": "stream",
          "name": "stdout",
          "text": [
            "24"
          ]
        }
      ]
    },
    {
      "cell_type": "code",
      "metadata": {
        "colab": {
          "base_uri": "https://localhost:8080/"
        },
        "id": "235C6DA8DNV3",
        "outputId": "5a3a0a3a-3c0b-45b4-dcab-d7951046fc24"
      },
      "source": [
        "%%writefile fibonaci.cpp\n",
        "#include <iostream>\n",
        "\n",
        "using namespace std;\n",
        "\n",
        "void fibonacci(int n,int x,int y){\n",
        "\n",
        "    if(n>1){\n",
        "\n",
        "          int f=x+y;\n",
        "\n",
        "          cout<<f<<\" \";\n",
        "\n",
        "          x=y;\n",
        "\n",
        "          y=f;\n",
        "\n",
        "          fibonacci(n-1,x,y);\n",
        "\n",
        "    }\n",
        "\n",
        "}\n",
        "\n",
        "int main()\n",
        "\n",
        "{\n",
        "\n",
        "    int x=0;\n",
        "\n",
        "    int y=1;\n",
        "    cout<<\"1 \";\n",
        "    fibonacci(10,x,y);\n",
        "\n",
        "    return 0;\n",
        "\n",
        "}"
      ],
      "execution_count": 7,
      "outputs": [
        {
          "output_type": "stream",
          "name": "stdout",
          "text": [
            "Overwriting fibonaci.cpp\n"
          ]
        }
      ]
    },
    {
      "cell_type": "code",
      "metadata": {
        "colab": {
          "base_uri": "https://localhost:8080/"
        },
        "id": "kvqFUaj7Kk2D",
        "outputId": "b24a6452-0577-4a3e-cc26-ee63a9356173"
      },
      "source": [
        "  !g++ fibonaci.cpp && ./a.out"
      ],
      "execution_count": 8,
      "outputs": [
        {
          "output_type": "stream",
          "name": "stdout",
          "text": [
            "1 1 2 3 5 8 13 21 34 55 "
          ]
        }
      ]
    },
    {
      "cell_type": "code",
      "metadata": {
        "id": "8_zgq_V2KqOi",
        "colab": {
          "base_uri": "https://localhost:8080/"
        },
        "outputId": "72b8dd1a-6f77-454c-b7f6-83f36351c6a2"
      },
      "source": [
        "%%writefile fibonaci2.cpp\n",
        "#include<iostream>\n",
        "using namespace std;\n",
        "int fibonaci(int t){\n",
        "    if(t<=2)return 1;\n",
        "    else return fibonaci(t-1) + fibonaci(t-2);\n",
        "}\n",
        "void serie(int n){\n",
        "    if(n>0){\n",
        "        serie(n-1);\n",
        "        cout<<fibonaci(n)<<\" \";\n",
        "    }\n",
        "}\n",
        "int main(){\n",
        "    serie(6);\n",
        "    return 0;\n",
        "}"
      ],
      "execution_count": 11,
      "outputs": [
        {
          "output_type": "stream",
          "name": "stdout",
          "text": [
            "Overwriting fibonaci2.cpp\n"
          ]
        }
      ]
    },
    {
      "cell_type": "code",
      "metadata": {
        "colab": {
          "base_uri": "https://localhost:8080/"
        },
        "id": "3Smd2RKZYRsO",
        "outputId": "a7ac4d75-cde5-4f05-cba1-5b4f6d0d9a9e"
      },
      "source": [
        "!g++ fibonaci2.cpp && ./a.out"
      ],
      "execution_count": 12,
      "outputs": [
        {
          "output_type": "stream",
          "name": "stdout",
          "text": [
            "1 1 2 3 5 8 "
          ]
        }
      ]
    },
    {
      "cell_type": "markdown",
      "metadata": {
        "id": "XqVkWZqdkmnp"
      },
      "source": [
        "Caso Práctico\n",
        "\n",
        "> En un empresa de corte de melamine, desea conocer las dimensiones que quedarían al realizar n cortes por el lado mas largo restante.Por ejemplo:\n",
        "\n",
        "Plancha de melamine: 300 cm X 200 cm\n",
        "\n",
        "cantidad de cortes: 3\n",
        "\n",
        "* Corte 1: 150 X 200\n",
        "\n",
        "* Corte 2: 150 X 100\n",
        "\n",
        "* Corte 3: 75 X 100\n",
        "\n",
        "\n"
      ]
    },
    {
      "cell_type": "code",
      "metadata": {
        "colab": {
          "base_uri": "https://localhost:8080/"
        },
        "id": "M9ijZmURktB1",
        "outputId": "4164864b-b7c4-42f1-ffc8-a6be1053d8b3"
      },
      "source": [
        "%%writefile caso.cpp\n",
        "#include <iostream>\n",
        "using namespace std;\n",
        "void fun(int n, int x, int y){\n",
        "    cout<<x<<\" \"<<y<<endl;\n",
        "    if(n>0){\n",
        "        if(x>y) x=x/2;\n",
        "        else y=y/2;\n",
        "        fun(n-1,x,y);\n",
        "    }\n",
        "    //if(n==0) cout<<x<<\" \"<<y;\n",
        "}\n",
        "int main(){\n",
        "    int x=300, y=200;\n",
        "    fun(3,x,y);\n",
        "    return 0;\n",
        "}"
      ],
      "execution_count": 18,
      "outputs": [
        {
          "output_type": "stream",
          "name": "stdout",
          "text": [
            "Overwriting caso.cpp\n"
          ]
        }
      ]
    },
    {
      "cell_type": "code",
      "metadata": {
        "colab": {
          "base_uri": "https://localhost:8080/"
        },
        "id": "-OYUQ1F2lP0g",
        "outputId": "a50df7b8-68ae-4dbc-fb80-171c3596f917"
      },
      "source": [
        "!g++ caso.cpp && ./a.out"
      ],
      "execution_count": 19,
      "outputs": [
        {
          "output_type": "stream",
          "name": "stdout",
          "text": [
            "300 200\n",
            "150 200\n",
            "150 100\n",
            "75 100\n"
          ]
        }
      ]
    },
    {
      "cell_type": "code",
      "metadata": {
        "id": "CKnQfa3elVHL"
      },
      "source": [
        ""
      ],
      "execution_count": 19,
      "outputs": []
    }
  ]
}