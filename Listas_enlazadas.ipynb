{
  "nbformat": 4,
  "nbformat_minor": 0,
  "metadata": {
    "colab": {
      "name": "Listas enlazadas.ipynb",
      "provenance": [],
      "toc_visible": true,
      "authorship_tag": "ABX9TyNBJje4TkGiZWhp0hwu1yOM"
    },
    "kernelspec": {
      "name": "python3",
      "display_name": "Python 3"
    },
    "language_info": {
      "name": "python"
    }
  },
  "cells": [
    {
      "cell_type": "markdown",
      "metadata": {
        "id": "NiZKlASFxfKB"
      },
      "source": [
        "##Listas enlazadas"
      ]
    },
    {
      "cell_type": "code",
      "metadata": {
        "colab": {
          "base_uri": "https://localhost:8080/"
        },
        "id": "3o7yFXKerd8P",
        "outputId": "a94cc03d-975e-4a5e-94b4-deec4ee3f643"
      },
      "source": [
        "%%writefile lista.cpp\n",
        "#include <iostream>\n",
        "using namespace std;\n",
        "struct Nodo{\n",
        "    int dato;\n",
        "    Nodo* siguiente;\n",
        "    Nodo(int dato, Nodo* siguiente=nullptr){\n",
        "        this->dato=dato;        \n",
        "    }\n",
        "};\n",
        "\n",
        "class ListaEnlazada {\n",
        "    Nodo* inicio;\n",
        "    public:\n",
        "    ListaEnlazada(){\n",
        "    inicio=nullptr;\n",
        "    }\n",
        "\n",
        "void agregar(int e){\n",
        "        Nodo* nuevo=new Nodo(e);\n",
        "        //0 elementos\n",
        "        if(inicio==nullptr)\n",
        "          inicio=nuevo;\n",
        "        //1...n elementos\n",
        "        else{\n",
        "           Nodo* aux=inicio;\n",
        "           while(aux->siguiente!=nullptr){\n",
        "               aux=aux->siguiente;\n",
        "           } \n",
        "           aux->siguiente=nuevo;\n",
        "       }\n",
        "    }\n",
        "    void mostrar(){\n",
        "        Nodo* aux= inicio;\n",
        "      while(aux!=nullptr){\n",
        "        cout<<aux->dato<<\"->\";\n",
        "        aux=aux->siguiente;\n",
        "      }\n",
        "    }\n",
        "};\n",
        "\n",
        "int main(){\n",
        "    ListaEnlazada le;\n",
        "    le.agregar(10);\n",
        "    le.agregar(20);\n",
        "    le.agregar(30);\n",
        "    le.agregar(40);\n",
        "    le.agregar(50);\n",
        "    le.mostrar();\n",
        "}"
      ],
      "execution_count": 1,
      "outputs": [
        {
          "output_type": "stream",
          "name": "stdout",
          "text": [
            "Writing lista.cpp\n"
          ]
        }
      ]
    },
    {
      "cell_type": "code",
      "metadata": {
        "colab": {
          "base_uri": "https://localhost:8080/"
        },
        "id": "Jhs9eMGFr171",
        "outputId": "b3ca3891-a2e8-45fa-ce55-2fd6a3a5fffc"
      },
      "source": [
        "!g++ lista.cpp && ./a.out"
      ],
      "execution_count": 4,
      "outputs": [
        {
          "output_type": "stream",
          "name": "stdout",
          "text": [
            "10->20->30->40->50->"
          ]
        }
      ]
    }
  ]
}