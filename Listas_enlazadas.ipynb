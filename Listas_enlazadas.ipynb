{
  "nbformat": 4,
  "nbformat_minor": 0,
  "metadata": {
    "colab": {
      "name": "Listas enlazadas.ipynb",
      "provenance": [],
      "toc_visible": true,
      "authorship_tag": "ABX9TyNZE8boaRCgyv5O/JU6SuB9"
    },
    "kernelspec": {
      "name": "python3",
      "display_name": "Python 3"
    },
    "language_info": {
      "name": "python"
    }
  },
  "cells": [
    {
      "cell_type": "markdown",
      "metadata": {
        "id": "NiZKlASFxfKB"
      },
      "source": [
        "##Listas enlazadas"
      ]
    },
    {
      "cell_type": "code",
      "metadata": {
        "colab": {
          "base_uri": "https://localhost:8080/"
        },
        "id": "3o7yFXKerd8P",
        "outputId": "a94cc03d-975e-4a5e-94b4-deec4ee3f643"
      },
      "source": [
        "%%writefile lista.cpp\n",
        "#include <iostream>\n",
        "using namespace std;\n",
        "struct Nodo{\n",
        "    int dato;\n",
        "    Nodo* siguiente;\n",
        "    Nodo(int dato, Nodo* siguiente=nullptr){\n",
        "        this->dato=dato;        \n",
        "    }\n",
        "};\n",
        "\n",
        "class ListaEnlazada {\n",
        "    Nodo* inicio;\n",
        "    public:\n",
        "    ListaEnlazada(){\n",
        "    inicio=nullptr;\n",
        "    }\n",
        "\n",
        "void agregar(int e){\n",
        "        Nodo* nuevo=new Nodo(e);\n",
        "        //0 elementos\n",
        "        if(inicio==nullptr)\n",
        "          inicio=nuevo;\n",
        "        //1...n elementos\n",
        "        else{\n",
        "           Nodo* aux=inicio;\n",
        "           while(aux->siguiente!=nullptr){\n",
        "               aux=aux->siguiente;\n",
        "           } \n",
        "           aux->siguiente=nuevo;\n",
        "       }\n",
        "    }\n",
        "    void mostrar(){\n",
        "        Nodo* aux= inicio;\n",
        "      while(aux!=nullptr){\n",
        "        cout<<aux->dato<<\"->\";\n",
        "        aux=aux->siguiente;\n",
        "      }\n",
        "    }\n",
        "};\n",
        "\n",
        "int main(){\n",
        "    ListaEnlazada le;\n",
        "    le.agregar(10);\n",
        "    le.agregar(20);\n",
        "    le.agregar(30);\n",
        "    le.agregar(40);\n",
        "    le.agregar(50);\n",
        "    le.mostrar();\n",
        "}"
      ],
      "execution_count": null,
      "outputs": [
        {
          "output_type": "stream",
          "name": "stdout",
          "text": [
            "Writing lista.cpp\n"
          ]
        }
      ]
    },
    {
      "cell_type": "code",
      "metadata": {
        "colab": {
          "base_uri": "https://localhost:8080/"
        },
        "id": "Jhs9eMGFr171",
        "outputId": "b3ca3891-a2e8-45fa-ce55-2fd6a3a5fffc"
      },
      "source": [
        "!g++ lista.cpp && ./a.out"
      ],
      "execution_count": null,
      "outputs": [
        {
          "output_type": "stream",
          "name": "stdout",
          "text": [
            "10->20->30->40->50->"
          ]
        }
      ]
    },
    {
      "cell_type": "code",
      "metadata": {
        "colab": {
          "base_uri": "https://localhost:8080/"
        },
        "id": "woRrAd6tIVOW",
        "outputId": "2122f5a2-69ed-4146-d45a-4de0769ce8a7"
      },
      "source": [
        "%%writefile listas.cpp\n",
        "#include <iostream> \n",
        "#include <string>\n",
        "using namespace std;\n",
        "struct Nodo{\n",
        "    string nombre;\n",
        "    Nodo* siguiente;\n",
        "    Nodo(string nombre, Nodo* siguiente=nullptr){\n",
        "        this->nombre=nombre;\n",
        "        this->siguiente=siguiente;\n",
        "    }\n",
        "};\n",
        "\n",
        "\n",
        "int main(){\n",
        "    //voy creando los vagones \n",
        "    Nodo* v1=new Nodo(\"Abel\");\n",
        "    Nodo* v2=new Nodo(\"Abelardo\");\n",
        "    Nodo* v3=new Nodo(\"Miguel\");\n",
        "    Nodo* v4=new Nodo(\"Ana\");\n",
        "    Nodo* v5=new Nodo(\"sofia\");\n",
        "\n",
        "    //aqui lo enlazamos al siguiente vagon\n",
        "    v1->siguiente=v2;\n",
        "    v2->siguiente=v3;\n",
        "    v3->siguiente=v4;\n",
        "    v4->siguiente=v5;\n",
        "\n",
        "  //visualizacion\n",
        "  cout<<v1->siguiente->siguiente->nombre<<endl;\n",
        "  return 0;\n",
        "\n",
        "\n",
        "\n",
        "}"
      ],
      "execution_count": 3,
      "outputs": [
        {
          "output_type": "stream",
          "name": "stdout",
          "text": [
            "Overwriting listas.cpp\n"
          ]
        }
      ]
    },
    {
      "cell_type": "code",
      "metadata": {
        "colab": {
          "base_uri": "https://localhost:8080/"
        },
        "id": "oKb1uQDdIhUe",
        "outputId": "6ca9016f-2850-4327-e188-97cdbc763af1"
      },
      "source": [
        "!g++ listas.cpp && ./a.out"
      ],
      "execution_count": 4,
      "outputs": [
        {
          "output_type": "stream",
          "name": "stdout",
          "text": [
            "Miguel\n"
          ]
        }
      ]
    },
    {
      "cell_type": "code",
      "metadata": {
        "colab": {
          "base_uri": "https://localhost:8080/"
        },
        "id": "LpSdL6q0QQiJ",
        "outputId": "d75019ff-6b48-458e-a4eb-30f4b6ee4955"
      },
      "source": [
        "%%writefile listas.cpp\n",
        "#include<iostream>\n",
        "using namespace std;\n",
        "struct nodo{\n",
        "     string nombre;\n",
        "     nodo* siguiente;\n",
        "     nodo(string nombre, nodo* siguiente=nullptr){\n",
        "         this->nombre=nombre;\n",
        "         this->siguiente=siguiente;\n",
        "     }   \n",
        "};\n",
        "int main(){\n",
        "  nodo* n1=new nodo(\"Jenny \",nullptr);\n",
        "  nodo* n2=new nodo(\"Leo \",nullptr);\n",
        "  nodo* n3=new nodo(\"gabriel \",nullptr);\n",
        "  nodo* n4=new nodo(\"diego \",nullptr);\n",
        "  nodo* n5=new nodo(\"alvaro\",nullptr);\n",
        "  n1->siguiente=n2;\n",
        "  n2->siguiente=n3;\n",
        "  n3->siguiente=n4;\n",
        "  n4->siguiente=n5;\n",
        "  //cout<<n1->nombre<<n2->nombre<<n3->nombre<<n4->nombre<<n5->nombre<<endl;\n",
        "  //como que lo inicializa aux=n1\n",
        "  nodo* aux=n1;\n",
        "  while(aux!=nullptr){\n",
        "      cout<<aux->nombre<<\" \";\n",
        "      aux=aux->siguiente;\n",
        "  }\n",
        "  /* no se puede recorrer de atras hacia delante por ser lista creo en array \n",
        "    si se podria \n",
        "  for(size_t i=5;i>0;i--){\n",
        "      cout<<aux->nombre<<\" \";\n",
        "      aux=aux->siguiente;\n",
        "  }*/\n",
        "}\n"
      ],
      "execution_count": 44,
      "outputs": [
        {
          "output_type": "stream",
          "name": "stdout",
          "text": [
            "Overwriting listas.cpp\n"
          ]
        }
      ]
    },
    {
      "cell_type": "code",
      "metadata": {
        "colab": {
          "base_uri": "https://localhost:8080/"
        },
        "id": "JJob6GrubqmX",
        "outputId": "3f886137-0b50-4fd6-8947-f0b5b192d472"
      },
      "source": [
        "!g++ listas.cpp && ./a.out"
      ],
      "execution_count": 45,
      "outputs": [
        {
          "output_type": "stream",
          "name": "stdout",
          "text": [
            "Jenny  Leo  gabriel  diego  alvaro "
          ]
        }
      ]
    },
    {
      "cell_type": "code",
      "metadata": {
        "id": "QEKhOe--bvUU"
      },
      "source": [
        ""
      ],
      "execution_count": 41,
      "outputs": []
    }
  ]
}