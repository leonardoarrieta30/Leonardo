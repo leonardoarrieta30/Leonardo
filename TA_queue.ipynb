{
  "nbformat": 4,
  "nbformat_minor": 0,
  "metadata": {
    "colab": {
      "name": "TA.ipynb",
      "provenance": [],
      "toc_visible": true,
      "authorship_tag": "ABX9TyOzHeJN+rdkp+mzRArdJlmv"
    },
    "kernelspec": {
      "name": "python3",
      "display_name": "Python 3"
    },
    "language_info": {
      "name": "python"
    }
  },
  "cells": [
    {
      "cell_type": "code",
      "metadata": {
        "colab": {
          "base_uri": "https://localhost:8080/"
        },
        "id": "MrNGs-Sf5lrZ",
        "outputId": "44530b15-5424-4a97-c694-4049c0b201f2"
      },
      "source": [
        "%%writefile colas.cpp\n",
        "#include <iostream>\n",
        "#include <cstdlib>\n",
        "#include <functional>\n",
        "#include<string>\n",
        "#include<queue>\n",
        "using namespace std;\n",
        "class Virus {\n",
        "   string nombre;\n",
        "    short idx;\n",
        "public:\n",
        "    Virus(string nombre, short idx) :nombre(nombre), idx(idx) {}\n",
        "    string toString() { return nombre + \" \" + to_string(idx) + \"\\n\"; }\n",
        "    string getNombre() { return nombre; }\n",
        "};\n",
        "\n",
        "void ejemplo1() {\n",
        "    queue<int> ls;\n",
        "    /*ls.insertar(new Nodo<int>(15));\n",
        "    ls.insertar(new Nodo<int>(25));\n",
        "    ls.insertar(new Nodo<int>(35));\n",
        "    ls.insertar(new Nodo<int>(45));\n",
        "    ls.insertar(new Nodo<int>(55));*/\n",
        "    ls.push(15);\n",
        "    ls.push(25);\n",
        "    ls.push(35);\n",
        "    ls.push(45);\n",
        "    ls.push(55);\n",
        "    //ls.buscarV1(25);\n",
        "    //cout << ls.buscar(26, [](int x, int y) {return x == y; }) << endl;\n",
        "    //ls.mostrar([](int x) {cout << x << \" \"; });\n",
        "    cout << ls.front() << endl;\n",
        "    //ls.front([](int x) {cout << x ; });\n",
        "\n",
        "}\n",
        "\n",
        "void ejemplo2() {\n",
        "    queue<Virus*> ls;\n",
        "    ls.push(new Virus(\"Covid\", 1));\n",
        "    ls.push(new Virus(\"Influenza\", 2));\n",
        "    ls.push(new Virus(\"Colera\", 3));\n",
        "    //ls.vuscar(new Virus(\"Colera\",3));\n",
        "    //ls.buscar(new Virus(\"Colera\", 3), [](Virus* x, Virus* y) {return x->getNombre() == y->getNombre(); });\n",
        "    cout << ls.front() << endl;\n",
        "    //ls.front([](Virus* v) {cout<<v->toString(); });\n",
        "}\n",
        "int main() {\n",
        "        ejemplo1();\n",
        "}"
      ],
      "execution_count": 3,
      "outputs": [
        {
          "output_type": "stream",
          "name": "stdout",
          "text": [
            "Overwriting colas.cpp\n"
          ]
        }
      ]
    },
    {
      "cell_type": "code",
      "metadata": {
        "colab": {
          "base_uri": "https://localhost:8080/"
        },
        "id": "ddy6nxUC9_8K",
        "outputId": "d9421596-d207-4457-d607-2d8e8b99f38f"
      },
      "source": [
        "!g++ colas.cpp && ./a.out"
      ],
      "execution_count": 4,
      "outputs": [
        {
          "output_type": "stream",
          "name": "stdout",
          "text": [
            "15\n"
          ]
        }
      ]
    },
    {
      "cell_type": "code",
      "metadata": {
        "id": "ne-p2r8n-EEg"
      },
      "source": [
        ""
      ],
      "execution_count": null,
      "outputs": []
    }
  ]
}