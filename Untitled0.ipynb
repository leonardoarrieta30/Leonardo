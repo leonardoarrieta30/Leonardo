{
  "nbformat": 4,
  "nbformat_minor": 0,
  "metadata": {
    "colab": {
      "name": "Untitled0.ipynb",
      "provenance": [],
      "authorship_tag": "ABX9TyNAgB5fR6cTvhhJkOvhcdQJ"
    },
    "kernelspec": {
      "name": "python3",
      "display_name": "Python 3"
    },
    "language_info": {
      "name": "python"
    }
  },
  "cells": [
    {
      "cell_type": "markdown",
      "metadata": {
        "id": "C9qL3NPF4GLI"
      },
      "source": [
        "#Temario\n",
        "1. **Colab**\n",
        "6. Compilación por terminal\n",
        "8. Control de versiones\n",
        "10. Templates\n",
        "\n"
      ]
    },
    {
      "cell_type": "code",
      "metadata": {
        "id": "r572QlZO8EGj",
        "colab": {
          "base_uri": "https://localhost:8080/"
        },
        "outputId": "a3b1af31-60bb-4ff7-c608-222c7465fd47"
      },
      "source": [
        "%%writefile p1.cpp\n",
        "#include<iostream>\n",
        "using namespace std;\n",
        "int main(){\n",
        "    cout<<\"Hola upecino\";\n",
        "return 0;\n",
        "}"
      ],
      "execution_count": 12,
      "outputs": [
        {
          "output_type": "stream",
          "text": [
            "Overwriting p1.cpp\n"
          ],
          "name": "stdout"
        }
      ]
    },
    {
      "cell_type": "code",
      "metadata": {
        "id": "-MnZVPo1w_0d"
      },
      "source": [
        "#compilando código en C++\n",
        "!g++ p1.cpp"
      ],
      "execution_count": 13,
      "outputs": []
    },
    {
      "cell_type": "code",
      "metadata": {
        "colab": {
          "base_uri": "https://localhost:8080/"
        },
        "id": "L0DGTmLixlR9",
        "outputId": "46ea5845-d888-4c68-a33b-2d641837e8e9"
      },
      "source": [
        "#Ejecuta el binario\n",
        "!./a.out"
      ],
      "execution_count": 14,
      "outputs": [
        {
          "output_type": "stream",
          "text": [
            "Hola upecino"
          ],
          "name": "stdout"
        }
      ]
    },
    {
      "cell_type": "code",
      "metadata": {
        "colab": {
          "base_uri": "https://localhost:8080/"
        },
        "id": "KfA64iWjyqJi",
        "outputId": "0b78ca00-3217-4437-d7cf-ea46a3509672"
      },
      "source": [
        "!g++ p1.cpp && ./a.out"
      ],
      "execution_count": 15,
      "outputs": [
        {
          "output_type": "stream",
          "text": [
            "Hola upecino"
          ],
          "name": "stdout"
        }
      ]
    },
    {
      "cell_type": "code",
      "metadata": {
        "colab": {
          "base_uri": "https://localhost:8080/"
        },
        "id": "16V6TsuBy27J",
        "outputId": "e7090be6-39d7-46e7-fc01-612a68f7e32f"
      },
      "source": [
        "!g++ p1.cpp -std=c++11 -Wall && ./a.out"
      ],
      "execution_count": 20,
      "outputs": [
        {
          "output_type": "stream",
          "text": [
            "Hola upecino"
          ],
          "name": "stdout"
        }
      ]
    },
    {
      "cell_type": "code",
      "metadata": {
        "id": "qU_15ayy2Gyu"
      },
      "source": [
        ""
      ],
      "execution_count": null,
      "outputs": []
    }
  ]
}