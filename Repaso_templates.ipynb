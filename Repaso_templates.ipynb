{
  "nbformat": 4,
  "nbformat_minor": 0,
  "metadata": {
    "colab": {
      "name": "Repaso_templates.ipynb",
      "provenance": [],
      "authorship_tag": "ABX9TyMpu33nsTIeUqZKcNawHq+h"
    },
    "kernelspec": {
      "name": "python3",
      "display_name": "Python 3"
    },
    "language_info": {
      "name": "python"
    }
  },
  "cells": [
    {
      "cell_type": "markdown",
      "metadata": {
        "id": "TSvnr7Jab9Ot"
      },
      "source": [
        "##Practica"
      ]
    },
    {
      "cell_type": "markdown",
      "metadata": {
        "id": "s7MD11_uSAQF"
      },
      "source": [
        "##LO INTENTE STRUCTS CON TEMPLATES ES CASI IMPOSIBLE\n"
      ]
    },
    {
      "cell_type": "code",
      "metadata": {
        "colab": {
          "base_uri": "https://localhost:8080/"
        },
        "id": "CcWkonIib57i",
        "outputId": "da40f138-8a48-446b-846f-659ad090dec1"
      },
      "source": [
        "%%writefile practicando.cpp\n",
        "#include<iostream>\n",
        "using namespace std;\n",
        "double suma(double a, double b){\n",
        "    return a+b;\n",
        "}\n",
        "int main(){\n",
        "    double x=10.7, y=31.4;\n",
        "    cout<<\"Entero \"<<suma(x,y)<<endl;\n",
        "    cout<<\"Float \"<<suma(x,y)<<endl;\n",
        "    cout<<\"Double \"<<suma(x,y)<<endl;\n",
        "\n",
        "    return 0;\n",
        "}"
      ],
      "execution_count": 7,
      "outputs": [
        {
          "output_type": "stream",
          "name": "stdout",
          "text": [
            "Overwriting practicando.cpp\n"
          ]
        }
      ]
    },
    {
      "cell_type": "code",
      "metadata": {
        "colab": {
          "base_uri": "https://localhost:8080/"
        },
        "id": "RN_-a2KT2Y_G",
        "outputId": "dc4826a5-6f66-4e55-b6a6-86b9b0ad5dce"
      },
      "source": [
        "!g++ practicando.cpp && ./a.out"
      ],
      "execution_count": 8,
      "outputs": [
        {
          "output_type": "stream",
          "name": "stdout",
          "text": [
            "Entero 42.1\n",
            "Float 42.1\n",
            "Double 42.1\n"
          ]
        }
      ]
    },
    {
      "cell_type": "code",
      "metadata": {
        "colab": {
          "base_uri": "https://localhost:8080/"
        },
        "id": "wN5hvpWx3DFj",
        "outputId": "c46a8c9a-de2b-4033-e1ea-624c54b3fde0"
      },
      "source": [
        "%%writefile practicando.cpp\n",
        "#include<iostream>\n",
        "using namespace std;\n",
        "template<typename T>\n",
        "T suma(T a, T b){\n",
        "    return a+b;\n",
        "}\n",
        "int main(){\n",
        "    double x=10.7, y=31.4;\n",
        "    cout<<\"Entero \"<<suma<int>(x,y)<<endl;\n",
        "    cout<<\"Float \"<<suma<float>(x,y)<<endl;\n",
        "    cout<<\"Double \"<<suma<double>(x,y)<<endl;\n",
        "\n",
        "    return 0;\n",
        "}"
      ],
      "execution_count": 13,
      "outputs": [
        {
          "output_type": "stream",
          "name": "stdout",
          "text": [
            "Overwriting practicando.cpp\n"
          ]
        }
      ]
    },
    {
      "cell_type": "code",
      "metadata": {
        "colab": {
          "base_uri": "https://localhost:8080/"
        },
        "id": "S-_kUlgU4Nav",
        "outputId": "38870290-999b-433b-a65d-f5cdd54ceb11"
      },
      "source": [
        "!g++ practicando.cpp && ./a.out"
      ],
      "execution_count": 14,
      "outputs": [
        {
          "output_type": "stream",
          "name": "stdout",
          "text": [
            "Entero 41\n",
            "Float 42.1\n",
            "Double 42.1\n"
          ]
        }
      ]
    },
    {
      "cell_type": "code",
      "metadata": {
        "colab": {
          "base_uri": "https://localhost:8080/"
        },
        "id": "t1FYDjuY4SNt",
        "outputId": "4df5413c-4bd4-4d6b-d0dc-0a2afce2eadf"
      },
      "source": [
        "%%writefile xd.cpp\n",
        "//ejemplo temlates y structs\n",
        "#include<iostream>\n",
        "#include<cstdlib>\n",
        "#include<functional>\n",
        "using namespace std;\n",
        "template<typename T> \n",
        "struct persona{\n",
        "    T nombre;\n",
        "    T edad;\n",
        "    T sexo[2];\n",
        "};\n",
        "\n",
        "void mostrardatos(persona p){\n",
        "  \n",
        "  cout<<\"Nombre: \"<<p.nombre<<endl;\n",
        "  cout<<\"Edad: \"<<p.edad<<endl;\n",
        "  cout<<\"Sexo: \"<<p.sexo<<endl;\n",
        "\n",
        "}\n",
        "int main(){\n",
        "    struct persona p\n",
        "    p.nombre<string>;\n",
        "    p.edad<int>;\n",
        "    p.sexo<char>;\n",
        "    mostrardatos(p);\n",
        "\n",
        "\n",
        "    return 0;\n",
        "}"
      ],
      "execution_count": 99,
      "outputs": [
        {
          "output_type": "stream",
          "name": "stdout",
          "text": [
            "Overwriting xd.cpp\n"
          ]
        }
      ]
    },
    {
      "cell_type": "code",
      "metadata": {
        "colab": {
          "base_uri": "https://localhost:8080/"
        },
        "id": "ceZLWYPYnNjt",
        "outputId": "e2addd4c-e377-4330-d210-39cd7ff0ced7"
      },
      "source": [
        "!g++ xd.cpp && ./a.out"
      ],
      "execution_count": 100,
      "outputs": [
        {
          "output_type": "stream",
          "name": "stdout",
          "text": [
            "\u001b[01m\u001b[Kxd.cpp:13:19:\u001b[m\u001b[K \u001b[01;31m\u001b[Kerror: \u001b[m\u001b[Kvariable or field ‘\u001b[01m\u001b[Kmostrardatos\u001b[m\u001b[K’ declared void\n",
            " void mostrardatos(\u001b[01;31m\u001b[Kpersona\u001b[m\u001b[K p){\n",
            "                   \u001b[01;31m\u001b[K^~~~~~~\u001b[m\u001b[K\n",
            "\u001b[01m\u001b[Kxd.cpp:13:27:\u001b[m\u001b[K \u001b[01;31m\u001b[Kerror: \u001b[m\u001b[Kmissing template arguments before ‘\u001b[01m\u001b[Kp\u001b[m\u001b[K’\n",
            " void mostrardatos(persona \u001b[01;31m\u001b[Kp\u001b[m\u001b[K){\n",
            "                           \u001b[01;31m\u001b[K^\u001b[m\u001b[K\n",
            "\u001b[01m\u001b[Kxd.cpp:\u001b[m\u001b[K In function ‘\u001b[01m\u001b[Kint main()\u001b[m\u001b[K’:\n",
            "\u001b[01m\u001b[Kxd.cpp:21:12:\u001b[m\u001b[K \u001b[01;31m\u001b[Kerror: \u001b[m\u001b[Ktemplate argument required for ‘\u001b[01m\u001b[Kstruct persona\u001b[m\u001b[K’\n",
            "     struct \u001b[01;31m\u001b[Kpersona\u001b[m\u001b[K p\n",
            "            \u001b[01;31m\u001b[K^~~~~~~\u001b[m\u001b[K\n",
            "\u001b[01m\u001b[Kxd.cpp:22:5:\u001b[m\u001b[K \u001b[01;31m\u001b[Kerror: \u001b[m\u001b[Kexpected initializer before ‘\u001b[01m\u001b[Kp\u001b[m\u001b[K’\n",
            "     \u001b[01;31m\u001b[Kp\u001b[m\u001b[K.nombre<string>;\n",
            "     \u001b[01;31m\u001b[K^\u001b[m\u001b[K\n",
            "\u001b[01m\u001b[Kxd.cpp:23:5:\u001b[m\u001b[K \u001b[01;31m\u001b[Kerror: \u001b[m\u001b[K‘\u001b[01m\u001b[Kp\u001b[m\u001b[K’ was not declared in this scope\n",
            "     \u001b[01;31m\u001b[Kp\u001b[m\u001b[K.edad<int>;\n",
            "     \u001b[01;31m\u001b[K^\u001b[m\u001b[K\n",
            "\u001b[01m\u001b[Kxd.cpp:23:12:\u001b[m\u001b[K \u001b[01;31m\u001b[Kerror: \u001b[m\u001b[Kexpected primary-expression before ‘\u001b[01m\u001b[Kint\u001b[m\u001b[K’\n",
            "     p.edad<\u001b[01;31m\u001b[Kint\u001b[m\u001b[K>;\n",
            "            \u001b[01;31m\u001b[K^~~\u001b[m\u001b[K\n",
            "\u001b[01m\u001b[Kxd.cpp:24:12:\u001b[m\u001b[K \u001b[01;31m\u001b[Kerror: \u001b[m\u001b[Kexpected primary-expression before ‘\u001b[01m\u001b[Kchar\u001b[m\u001b[K’\n",
            "     p.sexo<\u001b[01;31m\u001b[Kchar\u001b[m\u001b[K>;\n",
            "            \u001b[01;31m\u001b[K^~~~\u001b[m\u001b[K\n",
            "\u001b[01m\u001b[Kxd.cpp:25:5:\u001b[m\u001b[K \u001b[01;31m\u001b[Kerror: \u001b[m\u001b[K‘\u001b[01m\u001b[Kmostrardatos\u001b[m\u001b[K’ was not declared in this scope\n",
            "     \u001b[01;31m\u001b[Kmostrardatos\u001b[m\u001b[K(p);\n",
            "     \u001b[01;31m\u001b[K^~~~~~~~~~~~\u001b[m\u001b[K\n"
          ]
        }
      ]
    },
    {
      "cell_type": "code",
      "metadata": {
        "colab": {
          "base_uri": "https://localhost:8080/"
        },
        "id": "oHM150Xtr0qx",
        "outputId": "8751467c-ff85-4794-b355-f69ca0a01e66"
      },
      "source": [
        "%%writefile xd.cpp\n",
        "//ejemplo temlates y structs\n",
        "#include<iostream>\n",
        "#include<cstdlib>\n",
        "#include<string>\n",
        "using namespace std;\n",
        "\n",
        "struct persona{\n",
        "    string nombre;\n",
        "    int edad;\n",
        "    char sexo[2];\n",
        "}p={\"leo\", 12, 'M'};\n",
        "   \n",
        "\n",
        "void ingresardatos(persona p){\n",
        "    cout<<\"Ingrese su nombre: \"<<endl;\n",
        "    getline(cin,p.nombre);\n",
        "    cout<<\"Ingrese su edad: \"<<endl;\n",
        "    cin>>p.edad;\n",
        "    cout<<\"Ingrese su sexo: \"<<endl;\n",
        "    cin>>p.sexo;\n",
        "}\n",
        "\n",
        "void mostrardatos(persona p){\n",
        "  \n",
        "  cout<<\"Nombre: \"<<p.nombre<<endl;\n",
        "  cout<<\"Edad: \"<<p.edad<<endl;\n",
        "  cout<<\"Sexo: \"<<p.sexo<<endl;\n",
        "\n",
        "}\n",
        "int main(){\n",
        "\n",
        "    struct persona p;\n",
        "\n",
        "    ingresardatos(p);\n",
        "    mostrardatos(p);\n",
        "\n",
        "\n",
        "    return 0;\n",
        "}"
      ],
      "execution_count": 101,
      "outputs": [
        {
          "output_type": "stream",
          "name": "stdout",
          "text": [
            "Overwriting xd.cpp\n"
          ]
        }
      ]
    },
    {
      "cell_type": "code",
      "metadata": {
        "colab": {
          "base_uri": "https://localhost:8080/"
        },
        "id": "fs6NvNQpvZXp",
        "outputId": "6481e20c-8471-4346-b847-2ea356bd6543"
      },
      "source": [
        "!g++ xd.cpp && ./a.out"
      ],
      "execution_count": 102,
      "outputs": [
        {
          "output_type": "stream",
          "name": "stdout",
          "text": [
            "Ingrese su nombre: \n",
            "^C\n"
          ]
        }
      ]
    },
    {
      "cell_type": "code",
      "metadata": {
        "colab": {
          "base_uri": "https://localhost:8080/"
        },
        "id": "3gqVa2qTve3K",
        "outputId": "34536910-5057-42e1-b4d8-0064012b3321"
      },
      "source": [
        "%%writefile xd.cpp\n",
        "//ejemplo temlates y structs\n",
        "#include<iostream>\n",
        "#include<cstdlib>\n",
        "#include<string>\n",
        "using namespace std;\n",
        "\n",
        "struct persona{\n",
        "    string nombre;\n",
        "    int edad;\n",
        "    char sexo[2];\n",
        "}p={\"leo\", 12, 'M'};\n",
        "   \n",
        "\n",
        "\n",
        "int main(){\n",
        "\n",
        "  cout<<\"Nombre: \"<<p.nombre<<endl;\n",
        "  cout<<\"Edad: \"<<p.edad<<endl;\n",
        "  cout<<\"Sexo: \"<<p.sexo<<endl;\n",
        "\n",
        "\n",
        "    return 0;\n",
        "}"
      ],
      "execution_count": 103,
      "outputs": [
        {
          "output_type": "stream",
          "name": "stdout",
          "text": [
            "Overwriting xd.cpp\n"
          ]
        }
      ]
    },
    {
      "cell_type": "code",
      "metadata": {
        "colab": {
          "base_uri": "https://localhost:8080/"
        },
        "id": "4wHt_TW56he0",
        "outputId": "c11c8b65-c5ae-4fcb-bca9-12f816c93242"
      },
      "source": [
        "!g++ xd.cpp && ./a.out"
      ],
      "execution_count": 105,
      "outputs": [
        {
          "output_type": "stream",
          "name": "stdout",
          "text": [
            "Nombre: leo\n",
            "Edad: 12\n",
            "Sexo: M\n"
          ]
        }
      ]
    },
    {
      "cell_type": "code",
      "metadata": {
        "colab": {
          "base_uri": "https://localhost:8080/"
        },
        "id": "h_qG0c9ZF4Bg",
        "outputId": "1c2b24fc-d315-4a62-b554-2ac39c602e84"
      },
      "source": [
        "%%writefile xd.cpp\n",
        "//ejemplo temlates y structs\n",
        "#include<iostream>\n",
        "#include<cstdlib>\n",
        "#include<string>\n",
        "using namespace std;\n",
        "template<typename> T;\n",
        "struct persona{\n",
        "    T nombre;\n",
        "    T edad;\n",
        "    T sexo[2];\n",
        "}p;\n",
        "\n",
        "   void ingreso_de_datos(T a ,T b ,T c){\n",
        "       cout<<\"ingrese nombre: \"<<endl;\n",
        "       getline(cin,a.nombre);\n",
        "       cout<<\"Ingrese edad: \"<<endl;\n",
        "       cin>>b.edad;\n",
        "       cout<<\"Ingrese sexo: \"<<endl;\n",
        "       cin>>c.sexo;\n",
        "   }\n",
        "\n",
        "\n",
        "int main(){\n",
        "\n",
        "  p a<string>;\n",
        "  p b<int>;\n",
        "  p c<char>;\n",
        "  ingreso_de_datos(a,b,c);\n",
        "  cout<<\"Nombre: \"<<a.nombre;\n",
        "  cout<<\"Edad: \"<<b.edad;\n",
        "  cout<<\"Sexo: \"<<c.sexo;\n",
        "\n",
        "\n",
        "    return 0;\n",
        "}"
      ],
      "execution_count": 146,
      "outputs": [
        {
          "output_type": "stream",
          "name": "stdout",
          "text": [
            "Overwriting xd.cpp\n"
          ]
        }
      ]
    },
    {
      "cell_type": "code",
      "metadata": {
        "colab": {
          "base_uri": "https://localhost:8080/"
        },
        "id": "Y6gRKV1pGJmd",
        "outputId": "d5dd0b7b-d52c-4907-e531-b7de2169be68"
      },
      "source": [
        "!g++ xd.cpp && ./a.out"
      ],
      "execution_count": 147,
      "outputs": [
        {
          "output_type": "stream",
          "name": "stdout",
          "text": [
            "\u001b[01m\u001b[Kxd.cpp:6:20:\u001b[m\u001b[K \u001b[01;31m\u001b[Kerror: \u001b[m\u001b[K‘\u001b[01m\u001b[KT\u001b[m\u001b[K’ does not name a type\n",
            " template<typename> \u001b[01;31m\u001b[KT\u001b[m\u001b[K;\n",
            "                    \u001b[01;31m\u001b[K^\u001b[m\u001b[K\n",
            "\u001b[01m\u001b[Kxd.cpp:8:5:\u001b[m\u001b[K \u001b[01;31m\u001b[Kerror: \u001b[m\u001b[K‘\u001b[01m\u001b[KT\u001b[m\u001b[K’ does not name a type\n",
            "     \u001b[01;31m\u001b[KT\u001b[m\u001b[K nombre;\n",
            "     \u001b[01;31m\u001b[K^\u001b[m\u001b[K\n",
            "\u001b[01m\u001b[Kxd.cpp:9:5:\u001b[m\u001b[K \u001b[01;31m\u001b[Kerror: \u001b[m\u001b[K‘\u001b[01m\u001b[KT\u001b[m\u001b[K’ does not name a type\n",
            "     \u001b[01;31m\u001b[KT\u001b[m\u001b[K edad;\n",
            "     \u001b[01;31m\u001b[K^\u001b[m\u001b[K\n",
            "\u001b[01m\u001b[Kxd.cpp:10:5:\u001b[m\u001b[K \u001b[01;31m\u001b[Kerror: \u001b[m\u001b[K‘\u001b[01m\u001b[KT\u001b[m\u001b[K’ does not name a type\n",
            "     \u001b[01;31m\u001b[KT\u001b[m\u001b[K sexo[2];\n",
            "     \u001b[01;31m\u001b[K^\u001b[m\u001b[K\n",
            "\u001b[01m\u001b[Kxd.cpp:13:26:\u001b[m\u001b[K \u001b[01;31m\u001b[Kerror: \u001b[m\u001b[Kvariable or field ‘\u001b[01m\u001b[Kingreso_de_datos\u001b[m\u001b[K’ declared void\n",
            "    void ingreso_de_datos(\u001b[01;31m\u001b[KT\u001b[m\u001b[K a ,T b ,T c){\n",
            "                          \u001b[01;31m\u001b[K^\u001b[m\u001b[K\n",
            "\u001b[01m\u001b[Kxd.cpp:13:26:\u001b[m\u001b[K \u001b[01;31m\u001b[Kerror: \u001b[m\u001b[K‘\u001b[01m\u001b[KT\u001b[m\u001b[K’ was not declared in this scope\n",
            "\u001b[01m\u001b[Kxd.cpp:13:31:\u001b[m\u001b[K \u001b[01;31m\u001b[Kerror: \u001b[m\u001b[K‘\u001b[01m\u001b[KT\u001b[m\u001b[K’ was not declared in this scope\n",
            "    void ingreso_de_datos(T a ,\u001b[01;31m\u001b[KT\u001b[m\u001b[K b ,T c){\n",
            "                               \u001b[01;31m\u001b[K^\u001b[m\u001b[K\n",
            "\u001b[01m\u001b[Kxd.cpp:13:36:\u001b[m\u001b[K \u001b[01;31m\u001b[Kerror: \u001b[m\u001b[K‘\u001b[01m\u001b[KT\u001b[m\u001b[K’ was not declared in this scope\n",
            "    void ingreso_de_datos(T a ,T b ,\u001b[01;31m\u001b[KT\u001b[m\u001b[K c){\n",
            "                                    \u001b[01;31m\u001b[K^\u001b[m\u001b[K\n",
            "\u001b[01m\u001b[Kxd.cpp:\u001b[m\u001b[K In function ‘\u001b[01m\u001b[Kint main()\u001b[m\u001b[K’:\n",
            "\u001b[01m\u001b[Kxd.cpp:25:5:\u001b[m\u001b[K \u001b[01;31m\u001b[Kerror: \u001b[m\u001b[Kexpected ‘\u001b[01m\u001b[K;\u001b[m\u001b[K’ before ‘\u001b[01m\u001b[Ka\u001b[m\u001b[K’\n",
            "   p \u001b[01;31m\u001b[Ka\u001b[m\u001b[K<string>;\n",
            "     \u001b[01;31m\u001b[K^\u001b[m\u001b[K\n",
            "\u001b[01m\u001b[Kxd.cpp:26:5:\u001b[m\u001b[K \u001b[01;31m\u001b[Kerror: \u001b[m\u001b[Kexpected ‘\u001b[01m\u001b[K;\u001b[m\u001b[K’ before ‘\u001b[01m\u001b[Kb\u001b[m\u001b[K’\n",
            "   p \u001b[01;31m\u001b[Kb\u001b[m\u001b[K<int>;\n",
            "     \u001b[01;31m\u001b[K^\u001b[m\u001b[K\n",
            "\u001b[01m\u001b[Kxd.cpp:27:5:\u001b[m\u001b[K \u001b[01;31m\u001b[Kerror: \u001b[m\u001b[Kexpected ‘\u001b[01m\u001b[K;\u001b[m\u001b[K’ before ‘\u001b[01m\u001b[Kc\u001b[m\u001b[K’\n",
            "   p \u001b[01;31m\u001b[Kc\u001b[m\u001b[K<char>;\n",
            "     \u001b[01;31m\u001b[K^\u001b[m\u001b[K\n",
            "\u001b[01m\u001b[Kxd.cpp:28:20:\u001b[m\u001b[K \u001b[01;31m\u001b[Kerror: \u001b[m\u001b[K‘\u001b[01m\u001b[Ka\u001b[m\u001b[K’ was not declared in this scope\n",
            "   ingreso_de_datos(\u001b[01;31m\u001b[Ka\u001b[m\u001b[K,b,c);\n",
            "                    \u001b[01;31m\u001b[K^\u001b[m\u001b[K\n",
            "\u001b[01m\u001b[Kxd.cpp:28:22:\u001b[m\u001b[K \u001b[01;31m\u001b[Kerror: \u001b[m\u001b[K‘\u001b[01m\u001b[Kb\u001b[m\u001b[K’ was not declared in this scope\n",
            "   ingreso_de_datos(a,\u001b[01;31m\u001b[Kb\u001b[m\u001b[K,c);\n",
            "                      \u001b[01;31m\u001b[K^\u001b[m\u001b[K\n",
            "\u001b[01m\u001b[Kxd.cpp:28:24:\u001b[m\u001b[K \u001b[01;31m\u001b[Kerror: \u001b[m\u001b[K‘\u001b[01m\u001b[Kc\u001b[m\u001b[K’ was not declared in this scope\n",
            "   ingreso_de_datos(a,b,\u001b[01;31m\u001b[Kc\u001b[m\u001b[K);\n",
            "                        \u001b[01;31m\u001b[K^\u001b[m\u001b[K\n",
            "\u001b[01m\u001b[Kxd.cpp:28:3:\u001b[m\u001b[K \u001b[01;31m\u001b[Kerror: \u001b[m\u001b[K‘\u001b[01m\u001b[Kingreso_de_datos\u001b[m\u001b[K’ was not declared in this scope\n",
            "   \u001b[01;31m\u001b[Kingreso_de_datos\u001b[m\u001b[K(a,b,c);\n",
            "   \u001b[01;31m\u001b[K^~~~~~~~~~~~~~~~\u001b[m\u001b[K\n"
          ]
        }
      ]
    },
    {
      "cell_type": "code",
      "metadata": {
        "colab": {
          "base_uri": "https://localhost:8080/"
        },
        "id": "rnzINbtV6lA2",
        "outputId": "46f63cf0-f8ab-4cce-e81e-d247ff5717fa"
      },
      "source": [
        "%%writefile xd.cpp\n",
        "//ejemplo temlates y structs\n",
        "#include<iostream>\n",
        "#include<cstdlib>\n",
        "#include<string>\n",
        "using namespace std;\n",
        "template<typename T>\n",
        "struct persona{\n",
        "    T nombre;\n",
        "    T edad;\n",
        "    T sexo[2];\n",
        "}p;\n",
        "template<typename T>\n",
        "T ingreso_de_datos(T a, T b ,T c){\n",
        "       cout<<\"ingrese nombre: \"<<endl;\n",
        "       getline(cin,a.nombre);\n",
        "       cout<<\"Ingrese edad: \"<<endl;\n",
        "       cin>>b.edad;\n",
        "       cout<<\"Ingrese sexo: \"<<endl;\n",
        "       cin>>c.sexo;\n",
        "   }\n",
        "template<typename T>\n",
        "T mostrardatos(T a, T b, T c){\n",
        "  cout<<\"Nombre: \"<<a.nombre;\n",
        "  cout<<\"Edad: \"<<b.edad;\n",
        "  cout<<\"Sexo: \"<<c.sexo;\n",
        "\n",
        "}\n",
        "\n",
        "int main(){\n",
        "  \n",
        "  ingreso_de_datos<p>(a,b,c);\n",
        "  mostrardatos<p>(a,b,c);\n",
        "\n",
        "\n",
        "    return 0;\n",
        "}"
      ],
      "execution_count": 172,
      "outputs": [
        {
          "output_type": "stream",
          "name": "stdout",
          "text": [
            "Overwriting xd.cpp\n"
          ]
        }
      ]
    },
    {
      "cell_type": "code",
      "metadata": {
        "colab": {
          "base_uri": "https://localhost:8080/"
        },
        "id": "8Ns51EBx9dbV",
        "outputId": "1c600bb7-5170-4025-ebe7-d887c0a92145"
      },
      "source": [
        "!g++ xd.cpp && ./a.out"
      ],
      "execution_count": 173,
      "outputs": [
        {
          "output_type": "stream",
          "name": "stdout",
          "text": [
            "\u001b[01m\u001b[Kxd.cpp:11:2:\u001b[m\u001b[K \u001b[01;31m\u001b[Kerror: \u001b[m\u001b[Ka class template declaration must not declare anything else\n",
            " }\u001b[01;31m\u001b[Kp\u001b[m\u001b[K;\n",
            "  \u001b[01;31m\u001b[K^\u001b[m\u001b[K\n",
            "\u001b[01m\u001b[Kxd.cpp:\u001b[m\u001b[K In function ‘\u001b[01m\u001b[Kint main()\u001b[m\u001b[K’:\n",
            "\u001b[01m\u001b[Kxd.cpp:33:5:\u001b[m\u001b[K \u001b[01;31m\u001b[Kerror: \u001b[m\u001b[K‘\u001b[01m\u001b[Kp\u001b[m\u001b[K’ was not declared in this scope\n",
            "   a=\u001b[01;31m\u001b[Kp\u001b[m\u001b[K.nombre;\n",
            "     \u001b[01;31m\u001b[K^\u001b[m\u001b[K\n",
            "\u001b[01m\u001b[Kxd.cpp:36:30:\u001b[m\u001b[K \u001b[01;31m\u001b[Kerror: \u001b[m\u001b[Kno matching function for call to ‘\u001b[01m\u001b[Kingreso_de_datos<p>(std::__cxx11::string&, int&, char [2])\u001b[m\u001b[K’\n",
            "     ingreso_de_datos<p>(a,b,c\u001b[01;31m\u001b[K)\u001b[m\u001b[K;\n",
            "                              \u001b[01;31m\u001b[K^\u001b[m\u001b[K\n",
            "\u001b[01m\u001b[Kxd.cpp:13:3:\u001b[m\u001b[K \u001b[01;36m\u001b[Knote: \u001b[m\u001b[Kcandidate: template<class T> T ingreso_de_datos(T, T, T)\n",
            " T \u001b[01;36m\u001b[Kingreso_de_datos\u001b[m\u001b[K(T a, T b ,T c){\n",
            "   \u001b[01;36m\u001b[K^~~~~~~~~~~~~~~~\u001b[m\u001b[K\n",
            "\u001b[01m\u001b[Kxd.cpp:13:3:\u001b[m\u001b[K \u001b[01;36m\u001b[Knote: \u001b[m\u001b[K  template argument deduction/substitution failed:\n",
            "\u001b[01m\u001b[Kxd.cpp:37:24:\u001b[m\u001b[K \u001b[01;31m\u001b[Kerror: \u001b[m\u001b[Kno matching function for call to ‘\u001b[01m\u001b[Kmostrardatos<p>(std::__cxx11::string&, int&, char [2])\u001b[m\u001b[K’\n",
            "   mostrardatos<p>(a,b,c\u001b[01;31m\u001b[K)\u001b[m\u001b[K;\n",
            "                        \u001b[01;31m\u001b[K^\u001b[m\u001b[K\n",
            "\u001b[01m\u001b[Kxd.cpp:22:3:\u001b[m\u001b[K \u001b[01;36m\u001b[Knote: \u001b[m\u001b[Kcandidate: template<class T> T mostrardatos(T, T, T)\n",
            " T \u001b[01;36m\u001b[Kmostrardatos\u001b[m\u001b[K(T a, T b, T c){\n",
            "   \u001b[01;36m\u001b[K^~~~~~~~~~~~\u001b[m\u001b[K\n",
            "\u001b[01m\u001b[Kxd.cpp:22:3:\u001b[m\u001b[K \u001b[01;36m\u001b[Knote: \u001b[m\u001b[K  template argument deduction/substitution failed:\n"
          ]
        }
      ]
    },
    {
      "cell_type": "code",
      "metadata": {
        "id": "BOQAMvOB90br"
      },
      "source": [
        ""
      ],
      "execution_count": 109,
      "outputs": []
    }
  ]
}