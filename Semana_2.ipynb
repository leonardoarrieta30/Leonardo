{
  "nbformat": 4,
  "nbformat_minor": 0,
  "metadata": {
    "colab": {
      "name": "Semana 2.ipynb",
      "provenance": [],
      "authorship_tag": "ABX9TyMG+5ObUaur5s4Hwmkj4gFG"
    },
    "kernelspec": {
      "name": "python3",
      "display_name": "Python 3"
    },
    "language_info": {
      "name": "python"
    }
  },
  "cells": [
    {
      "cell_type": "markdown",
      "metadata": {
        "id": "C9qL3NPF4GLI"
      },
      "source": [
        "#Temario\n",
        "1. **Colab**\n",
        "6. Compilación por terminal\n",
        "8. Control de versiones\n",
        "10. Templates\n",
        "\n"
      ]
    },
    {
      "cell_type": "markdown",
      "metadata": {
        "id": "7Xs5D5KtBCw9"
      },
      "source": [
        "##Compilación por terminal"
      ]
    },
    {
      "cell_type": "code",
      "metadata": {
        "id": "r572QlZO8EGj",
        "colab": {
          "base_uri": "https://localhost:8080/"
        },
        "outputId": "a3b1af31-60bb-4ff7-c608-222c7465fd47"
      },
      "source": [
        "%%writefile p1.cpp\n",
        "#include<iostream>\n",
        "using namespace std;\n",
        "int main(){\n",
        "    cout<<\"Hola upecino\";\n",
        "return 0;\n",
        "}"
      ],
      "execution_count": 12,
      "outputs": [
        {
          "output_type": "stream",
          "text": [
            "Overwriting p1.cpp\n"
          ],
          "name": "stdout"
        }
      ]
    },
    {
      "cell_type": "code",
      "metadata": {
        "id": "-MnZVPo1w_0d"
      },
      "source": [
        "#compilando código en C++\n",
        "!g++ p1.cpp"
      ],
      "execution_count": 13,
      "outputs": []
    },
    {
      "cell_type": "code",
      "metadata": {
        "colab": {
          "base_uri": "https://localhost:8080/"
        },
        "id": "L0DGTmLixlR9",
        "outputId": "46ea5845-d888-4c68-a33b-2d641837e8e9"
      },
      "source": [
        "#Ejecuta el binario\n",
        "!./a.out"
      ],
      "execution_count": 14,
      "outputs": [
        {
          "output_type": "stream",
          "text": [
            "Hola upecino"
          ],
          "name": "stdout"
        }
      ]
    },
    {
      "cell_type": "code",
      "metadata": {
        "colab": {
          "base_uri": "https://localhost:8080/"
        },
        "id": "KfA64iWjyqJi",
        "outputId": "0b78ca00-3217-4437-d7cf-ea46a3509672"
      },
      "source": [
        "!g++ p1.cpp && ./a.out"
      ],
      "execution_count": 15,
      "outputs": [
        {
          "output_type": "stream",
          "text": [
            "Hola upecino"
          ],
          "name": "stdout"
        }
      ]
    },
    {
      "cell_type": "code",
      "metadata": {
        "colab": {
          "base_uri": "https://localhost:8080/"
        },
        "id": "16V6TsuBy27J",
        "outputId": "e7090be6-39d7-46e7-fc01-612a68f7e32f"
      },
      "source": [
        "!g++ p1.cpp -std=c++11 -Wall && ./a.out"
      ],
      "execution_count": 20,
      "outputs": [
        {
          "output_type": "stream",
          "text": [
            "Hola upecino"
          ],
          "name": "stdout"
        }
      ]
    },
    {
      "cell_type": "markdown",
      "metadata": {
        "id": "fB0PrU6hBRKN"
      },
      "source": [
        "## Templates"
      ]
    },
    {
      "cell_type": "code",
      "metadata": {
        "colab": {
          "base_uri": "https://localhost:8080/"
        },
        "id": "qU_15ayy2Gyu",
        "outputId": "a71eea5b-d0f5-403c-83db-ca2bc6a3c0b7"
      },
      "source": [
        "%%writefile Eje.cpp\n",
        "class Operacion{\n",
        "    private:\n",
        "    int n1;\n",
        "    int n2;\n",
        "    int n3;\n",
        "    public:\n",
        "    Operacion(int n1,int n2){\n",
        "        this->n1=n1;\n",
        "        this->n2=n2; \n",
        "    }\n",
        "    Operacion(int n1){\n",
        "        this->n1=n1;\n",
        "        this->n2=0; \n",
        "    }\n",
        "    Operacion(){\n",
        "        n1=n2=0;\n",
        "    }\n",
        "};\n",
        "    int main(){\n",
        "        Operacion o1();\n",
        "        Operacion o2(10);\n",
        "        Operacion o3(20,30);\n",
        "        return 0;\n",
        "    }"
      ],
      "execution_count": 33,
      "outputs": [
        {
          "output_type": "stream",
          "text": [
            "Overwriting Eje.cpp\n"
          ],
          "name": "stdout"
        }
      ]
    },
    {
      "cell_type": "code",
      "metadata": {
        "id": "T4H2ONTRGgM_"
      },
      "source": [
        "!g++ Eje.cpp -o upc.exe && ./upc.exe"
      ],
      "execution_count": 34,
      "outputs": []
    },
    {
      "cell_type": "code",
      "metadata": {
        "colab": {
          "base_uri": "https://localhost:8080/"
        },
        "id": "0RxM1qklG762",
        "outputId": "ec0c4219-b5eb-4122-ceb9-dc799d4b5edc"
      },
      "source": [
        "%%writefile Eje2.cpp\n",
        "class Operacion{\n",
        "    private:\n",
        "    int n1;\n",
        "    int n2;\n",
        "    public:\n",
        "    Operacion(int n1=0,int n2=0):n1(n1),n2(n2){}  \n",
        "};\n",
        "    int main(){\n",
        "        Operacion o1();\n",
        "        Operacion o2(10);\n",
        "        Operacion o3(20,30);\n",
        "        return 0;\n",
        "    }"
      ],
      "execution_count": 38,
      "outputs": [
        {
          "output_type": "stream",
          "text": [
            "Overwriting Eje2.cpp\n"
          ],
          "name": "stdout"
        }
      ]
    },
    {
      "cell_type": "code",
      "metadata": {
        "id": "r7WjFBGjIS2n"
      },
      "source": [
        "!g++ Eje2.cpp -o upc.exe && ./upc.exe"
      ],
      "execution_count": 39,
      "outputs": []
    },
    {
      "cell_type": "code",
      "metadata": {
        "colab": {
          "base_uri": "https://localhost:8080/"
        },
        "id": "tTfMnVhVIYgi",
        "outputId": "5196db6a-255e-44ae-879a-d0598102b090"
      },
      "source": [
        "%%writefile Eje2.cpp\n",
        "#include<iostream>\n",
        "using namespace std;\n",
        "typedef unsigned long long ul;\n",
        "class Operacion1{\n",
        "    private:\n",
        "    int n1;\n",
        "    int n2;\n",
        "    public:\n",
        "    Operacion1(int n1=0,int n2=0):n1(n1),n2(n2){}  \n",
        "    short suma(){\n",
        "        return n1+n2;\n",
        "    }\n",
        "};\n",
        "class Operacion2{\n",
        "    private:\n",
        "    int n1;\n",
        "    int n2;\n",
        "    public:\n",
        "    Operacion2(int n1=0,int n2=0):n1(n1),n2(n2){}  \n",
        "    ul suma(){\n",
        "        return n1+n2;\n",
        "    }\n",
        "};\n",
        "class Operacion3{\n",
        "    private:\n",
        "    int n1;\n",
        "    int n2;\n",
        "    public:\n",
        "    Operacion3(int n1=0,int n2=0):n1(n1),n2(n2){}  \n",
        "    float suma(){\n",
        "        return n1+n2;\n",
        "    }\n",
        "};\n",
        "    int main(){\n",
        "        Operacion1 o1(123456789.45,123456789.62);\n",
        "        Operacion2 o2(123456789.45,123456789.62);\n",
        "        Operacion3 o3(123456789.45,123456789.62);\n",
        "        cout<<o1.suma()<<endl;\n",
        "        cout<<o2.suma()<<endl;\n",
        "        cout<<o3.suma()<<endl;\n",
        "\n",
        "        return 0;\n",
        "    }"
      ],
      "execution_count": 46,
      "outputs": [
        {
          "output_type": "stream",
          "text": [
            "Overwriting Eje2.cpp\n"
          ],
          "name": "stdout"
        }
      ]
    },
    {
      "cell_type": "code",
      "metadata": {
        "colab": {
          "base_uri": "https://localhost:8080/"
        },
        "id": "Y-_Gp8ltbBrV",
        "outputId": "df0b91c4-8062-47c3-ca19-e521e06595ea"
      },
      "source": [
        "!g++ Eje2.cpp -o upc.exe && ./upc.exe"
      ],
      "execution_count": 47,
      "outputs": [
        {
          "output_type": "stream",
          "text": [
            "-26070\n",
            "246913578\n",
            "2.46914e+08\n"
          ],
          "name": "stdout"
        }
      ]
    },
    {
      "cell_type": "code",
      "metadata": {
        "colab": {
          "base_uri": "https://localhost:8080/"
        },
        "id": "35Ze7ofDbOuo",
        "outputId": "79701cef-8be5-4f42-ae6a-eda24742a219"
      },
      "source": [
        "%%writefile Eje2Templates.cpp\n",
        "#include<iostream>\n",
        "using namespace std;\n",
        "typedef unsigned long long ul;\n",
        "template <class Tipo>\n",
        "class Operacion{\n",
        "    Tipo n1;\n",
        "    Tipo n2;\n",
        "    public:\n",
        "    Operacion(Tipo n1=0,Tipo n2=0):n1(n1),n2(n2){}  \n",
        "    Tipo suma(){\n",
        "        return n1+n2;\n",
        "    }\n",
        "};\n",
        "\n",
        "    int main(){\n",
        "        Operacion<short>  o1(2.5,3.6);\n",
        "        Operacion<ul>     o2(123,654);\n",
        "        Operacion<float>  o3(2.78,3.46);\n",
        "        cout<<o1.suma()<<endl;\n",
        "        cout<<o2.suma()<<endl;\n",
        "        cout<<o3.suma()<<endl;\n",
        "\n",
        "        return 0;\n",
        "    }"
      ],
      "execution_count": 66,
      "outputs": [
        {
          "output_type": "stream",
          "text": [
            "Overwriting Eje2Templates.cpp\n"
          ],
          "name": "stdout"
        }
      ]
    },
    {
      "cell_type": "code",
      "metadata": {
        "colab": {
          "base_uri": "https://localhost:8080/"
        },
        "id": "Vr5tdrbcnTaW",
        "outputId": "82a1c280-a5d3-4ba7-e634-deb86a50d33d"
      },
      "source": [
        "!g++ Eje2Templates.cpp -o upc.exe && ./upc.exe"
      ],
      "execution_count": 67,
      "outputs": [
        {
          "output_type": "stream",
          "text": [
            "5\n",
            "777\n",
            "6.24\n"
          ],
          "name": "stdout"
        }
      ]
    },
    {
      "cell_type": "code",
      "metadata": {
        "id": "Et2w6zFknT7F"
      },
      "source": [
        "    "
      ],
      "execution_count": null,
      "outputs": []
    }
  ]
}